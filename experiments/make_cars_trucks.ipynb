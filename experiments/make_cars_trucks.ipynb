{
 "cells": [
  {
   "cell_type": "code",
   "execution_count": 83,
   "metadata": {},
   "outputs": [],
   "source": [
    "import sys\n",
    "import os\n",
    "from PIL import Image\n",
    "import matplotlib.pyplot as plt\n",
    "import numpy as np\n",
    "import pickle"
   ]
  },
  {
   "cell_type": "code",
   "execution_count": 84,
   "metadata": {},
   "outputs": [],
   "source": [
    "root='/mnt/c/Users/anany/Desktop/gradual_shift/data/cars-trucks-flickr'\n",
    "EXTS = ['.png', '.jpg', '.jpeg']\n",
    "dim = 64"
   ]
  },
  {
   "cell_type": "code",
   "execution_count": 85,
   "metadata": {},
   "outputs": [],
   "source": [
    "def get_extension(name):\n",
    "    return name[name.rfind('.'):]\n",
    "\n",
    "def get_filenames(dir):\n",
    "    if sys.version_info >= (3, 5):\n",
    "        # Faster and available in Python 3.5 and above\n",
    "        filenames = [d.name for d in os.scandir(dir) if not(d.is_dir()) and\n",
    "                     get_extension(d.name) in EXTS]\n",
    "    else:\n",
    "        filenames = [d for d in os.listdir(dir) if not(os.path.isdir(os.path.join(dir, d)))\n",
    "                     and get_extension(d) in EXTS]\n",
    "    return filenames\n",
    "\n",
    "def check_extensions(file_names):\n",
    "    for name in file_names:\n",
    "        ext = name[name.rfind('.'):]\n",
    "        if ext not in EXTS:\n",
    "            raise ValueError(f'{ext} is not a valid extension in {EXTS}, filename: {name}')"
   ]
  },
  {
   "cell_type": "code",
   "execution_count": 86,
   "metadata": {},
   "outputs": [],
   "source": [
    "file_names = get_filenames(root + '/car 1940')"
   ]
  },
  {
   "cell_type": "code",
   "execution_count": 88,
   "metadata": {},
   "outputs": [],
   "source": [
    "\n",
    "def get_car_data(dim, years, class_names, rng):\n",
    "    xs, ys = [], []\n",
    "    num_images = 0\n",
    "    bad_shaped_images = 0\n",
    "    for year in years:\n",
    "        cur_xs, cur_ys = [], []\n",
    "        for class_idx, class_name in zip(range(len(class_names)), class_names):\n",
    "            folder_name = class_name + ' ' + str(year)\n",
    "            file_names = get_filenames(root + \"/\" + folder_name)\n",
    "            check_extensions(file_names)\n",
    "            for name in file_names:\n",
    "                path = root + '/' + folder_name + '/' + name\n",
    "                try:\n",
    "                    img = Image.open(path)\n",
    "                except Image.UnidentifiedImageError:\n",
    "                    bad_shaped_images += 1\n",
    "                    continue\n",
    "                img = img.resize((dim,dim), Image.ANTIALIAS)\n",
    "                img_data = np.array(img) / 255.0\n",
    "                if img_data.shape == (dim, dim, 3):\n",
    "                    cur_xs.append(img_data)\n",
    "                    cur_ys.append(class_idx)\n",
    "                    num_images += 1\n",
    "                else:\n",
    "                    bad_shaped_images += 1\n",
    "        cur_xs = np.array(cur_xs)\n",
    "        cur_ys = np.array(cur_ys)\n",
    "        perm = rng.permutation(len(cur_xs))\n",
    "        cur_xs = cur_xs[perm]\n",
    "        cur_ys = cur_ys[perm]\n",
    "        xs.append(cur_xs)\n",
    "        ys.append(cur_ys)\n",
    "    xs = np.concatenate(xs, axis=0)\n",
    "    ys = np.concatenate(ys, axis=0)\n",
    "    return xs, ys\n",
    "    \n",
    "\n",
    "rng = np.random.RandomState(seed=0)\n",
    "years = list(range(1940, 2021))\n",
    "class_names = ['car', 'truck']\n",
    "dim = 64\n",
    "xs, ys = get_car_data(dim=dim, years=years, class_names=class_names, rng=rng)\n",
    "pickle.dump( (xs, ys), open(\"cars-trucks-flickr-\" + str(dim) + '.pkl', \"wb\"))"
   ]
  },
  {
   "cell_type": "code",
   "execution_count": 90,
   "metadata": {},
   "outputs": [],
   "source": [
    "xs, ys = pickle.load( open( \"cars-trucks-flickr-64.pkl\", \"rb\" ) )"
   ]
  },
  {
   "cell_type": "code",
   "execution_count": 82,
   "metadata": {},
   "outputs": [
    {
     "name": "stdout",
     "output_type": "stream",
     "text": [
      "(14717, 64, 64, 3)\n"
     ]
    }
   ],
   "source": [
    "print(xs.shape)"
   ]
  },
  {
   "cell_type": "code",
   "execution_count": 23,
   "metadata": {},
   "outputs": [
    {
     "data": {
      "text/plain": [
       "array([1, 0, 1, 0, 1, 0, 0, 1, 1, 0])"
      ]
     },
     "execution_count": 23,
     "metadata": {},
     "output_type": "execute_result"
    }
   ],
   "source": [
    "ys[:10]"
   ]
  },
  {
   "cell_type": "code",
   "execution_count": null,
   "metadata": {},
   "outputs": [],
   "source": []
  }
 ],
 "metadata": {
  "kernelspec": {
   "display_name": "Python 3",
   "language": "python",
   "name": "python3"
  },
  "language_info": {
   "codemirror_mode": {
    "name": "ipython",
    "version": 3
   },
   "file_extension": ".py",
   "mimetype": "text/x-python",
   "name": "python",
   "nbconvert_exporter": "python",
   "pygments_lexer": "ipython3",
   "version": "3.6.9"
  }
 },
 "nbformat": 4,
 "nbformat_minor": 4
}
